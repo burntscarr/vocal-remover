{
  "nbformat": 4,
  "nbformat_minor": 0,
  "metadata": {
    "colab": {
      "name": "vocal-remover-burnt.ipynb",
      "provenance": [],
      "collapsed_sections": [],
      "authorship_tag": "ABX9TyOO85y7RNljuosTiGRlG/XI"
    },
    "kernelspec": {
      "name": "python3",
      "display_name": "Python 3"
    }
  },
  "cells": [
    {
      "cell_type": "markdown",
      "metadata": {
        "id": "ag0wAKDaBa-F"
      },
      "source": [
        "# **Vocal-Remover burntscarr Version.**\n",
        "*Edits based off djtayz version.*"
      ]
    },
    {
      "cell_type": "markdown",
      "metadata": {
        "id": "_wcBFJj_EURI"
      },
      "source": [
        "EDITS:\n",
        "*   Step Descriptions & Titles\n",
        "*   Code Cleanup/Shortening\n",
        "*   Optional File Renaming (for Sorting)\n",
        "*   Basic Information For New Users\n",
        "*   Optional FLAC Conversion (for Saving Space)\n",
        "*   Optional WAV Removal after FLAC Conversion (more space)\n",
        "\n",
        "UPCOMING:\n",
        "*   Dropdown menu for filetype ***(if I can...)***\n",
        "*   Input field for file name ***(if I can...)***\n",
        "*   Song Download Options ***(Making new tool to implement here for this)***\n",
        "*   Video Tutorial for **Mobile** (Definitely On It's Way)\n",
        "\n",
        "\n"
      ]
    },
    {
      "cell_type": "markdown",
      "metadata": {
        "id": "V49iYaQGEY9l"
      },
      "source": [
        "#**Steps 1-4** - Import, Copy, Install, and Directory Change"
      ]
    },
    {
      "cell_type": "markdown",
      "metadata": {
        "id": "x6TvggB-CxDe"
      },
      "source": [
        "**First Step** - Import Google Drive to Allow Colab to Access Your Files\n",
        "\n",
        "You'll be prompted to click a link, sign in, allow access, and copy the code given to you into the input field that shows up. Press enter to submit the code after pasting it."
      ]
    },
    {
      "cell_type": "code",
      "metadata": {
        "id": "vwMkZMynBSpy",
        "outputId": "f177df97-28c4-447e-8904-2f82f6f92f47",
        "colab": {
          "base_uri": "https://localhost:8080/"
        }
      },
      "source": [
        "#FIRST STEP - Import Google Drive to Allow Colab to Access Your Files\n",
        "\n",
        "from google.colab import drive\n",
        "drive.mount('/content/drive')"
      ],
      "execution_count": 35,
      "outputs": [
        {
          "output_type": "stream",
          "text": [
            "Mounted at /content/drive\n"
          ],
          "name": "stdout"
        }
      ]
    },
    {
      "cell_type": "markdown",
      "metadata": {
        "id": "31RXx_KFDJ4c"
      },
      "source": [
        "**Second Step** - Copy GDrive Content to Local Session Folder."
      ]
    },
    {
      "cell_type": "code",
      "metadata": {
        "id": "vz9bAZ09B_WG"
      },
      "source": [
        "#SECOND STEP - Copy GDrive Content to Local Session Folder.\n",
        "\n",
        "%cp \"/content/drive/My Drive/vocal-remover/\" \"/content/\" -r"
      ],
      "execution_count": 37,
      "outputs": []
    },
    {
      "cell_type": "markdown",
      "metadata": {
        "id": "T0E8n53HDP00"
      },
      "source": [
        "**Third Step** - Install Needed Programs."
      ]
    },
    {
      "cell_type": "code",
      "metadata": {
        "id": "PYY4K5TMCH5-",
        "outputId": "0e2febbe-64b0-4c10-fc81-5eac9a48fc42",
        "colab": {
          "base_uri": "https://localhost:8080/"
        }
      },
      "source": [
        "#THIRD STEP - Install Needed Programs.\n",
        "\n",
        "!apt install ffmpeg flac\n",
        "!pip install torch Pillow tqdm librosa opencv-python numba soundstretch SoundFile"
      ],
      "execution_count": 38,
      "outputs": [
        {
          "output_type": "stream",
          "text": [
            "Reading package lists... Done\n",
            "Building dependency tree       \n",
            "Reading state information... Done\n",
            "ffmpeg is already the newest version (7:3.4.8-0ubuntu0.2).\n",
            "The following NEW packages will be installed:\n",
            "  flac\n",
            "0 upgraded, 1 newly installed, 0 to remove and 11 not upgraded.\n",
            "Need to get 144 kB of archives.\n",
            "After this operation, 438 kB of additional disk space will be used.\n",
            "Get:1 http://archive.ubuntu.com/ubuntu bionic/universe amd64 flac amd64 1.3.2-1 [144 kB]\n",
            "Fetched 144 kB in 0s (1,747 kB/s)\n",
            "Selecting previously unselected package flac.\n",
            "(Reading database ... 144628 files and directories currently installed.)\n",
            "Preparing to unpack .../flac_1.3.2-1_amd64.deb ...\n",
            "Unpacking flac (1.3.2-1) ...\n",
            "Setting up flac (1.3.2-1) ...\n",
            "Processing triggers for man-db (2.8.3-2ubuntu0.1) ...\n",
            "Requirement already satisfied: torch in /usr/local/lib/python3.6/dist-packages (1.6.0+cu101)\n",
            "Requirement already satisfied: Pillow in /usr/local/lib/python3.6/dist-packages (7.0.0)\n",
            "Requirement already satisfied: tqdm in /usr/local/lib/python3.6/dist-packages (4.41.1)\n",
            "Requirement already satisfied: librosa in /usr/local/lib/python3.6/dist-packages (0.6.3)\n",
            "Requirement already satisfied: opencv-python in /usr/local/lib/python3.6/dist-packages (4.1.2.30)\n",
            "Requirement already satisfied: numba in /usr/local/lib/python3.6/dist-packages (0.48.0)\n",
            "Collecting soundstretch\n",
            "  Downloading https://files.pythonhosted.org/packages/7b/49/eaf2bc7cbbca5c6973b6a332de233bcedd333182f3b9932c8442b7b87bd1/soundstretch-1.2.tar.gz\n",
            "Collecting SoundFile\n",
            "  Downloading https://files.pythonhosted.org/packages/eb/f2/3cbbbf3b96fb9fa91582c438b574cff3f45b29c772f94c400e2c99ef5db9/SoundFile-0.10.3.post1-py2.py3-none-any.whl\n",
            "Requirement already satisfied: numpy in /usr/local/lib/python3.6/dist-packages (from torch) (1.18.5)\n",
            "Requirement already satisfied: future in /usr/local/lib/python3.6/dist-packages (from torch) (0.16.0)\n",
            "Requirement already satisfied: scipy>=1.0.0 in /usr/local/lib/python3.6/dist-packages (from librosa) (1.4.1)\n",
            "Requirement already satisfied: scikit-learn!=0.19.0,>=0.14.0 in /usr/local/lib/python3.6/dist-packages (from librosa) (0.22.2.post1)\n",
            "Requirement already satisfied: audioread>=2.0.0 in /usr/local/lib/python3.6/dist-packages (from librosa) (2.1.9)\n",
            "Requirement already satisfied: resampy>=0.2.0 in /usr/local/lib/python3.6/dist-packages (from librosa) (0.2.2)\n",
            "Requirement already satisfied: decorator>=3.0.0 in /usr/local/lib/python3.6/dist-packages (from librosa) (4.4.2)\n",
            "Requirement already satisfied: six>=1.3 in /usr/local/lib/python3.6/dist-packages (from librosa) (1.15.0)\n",
            "Requirement already satisfied: joblib>=0.12 in /usr/local/lib/python3.6/dist-packages (from librosa) (0.17.0)\n",
            "Requirement already satisfied: setuptools in /usr/local/lib/python3.6/dist-packages (from numba) (50.3.2)\n",
            "Requirement already satisfied: llvmlite<0.32.0,>=0.31.0dev0 in /usr/local/lib/python3.6/dist-packages (from numba) (0.31.0)\n",
            "Requirement already satisfied: cffi>=1.0 in /usr/local/lib/python3.6/dist-packages (from SoundFile) (1.14.3)\n",
            "Requirement already satisfied: pycparser in /usr/local/lib/python3.6/dist-packages (from cffi>=1.0->SoundFile) (2.20)\n",
            "Building wheels for collected packages: soundstretch\n",
            "  Building wheel for soundstretch (setup.py) ... \u001b[?25l\u001b[?25hdone\n",
            "  Created wheel for soundstretch: filename=soundstretch-1.2-cp36-none-any.whl size=2619 sha256=7de284f2175810866adc8ad7eeb21b48badb41dff540127e33c1ac4e773b43ab\n",
            "  Stored in directory: /root/.cache/pip/wheels/78/ce/c9/fd1e23fb7651296893e19203805c292cd6d0181f0b485ee7ad\n",
            "Successfully built soundstretch\n",
            "Installing collected packages: soundstretch, SoundFile\n",
            "Successfully installed SoundFile-0.10.3.post1 soundstretch-1.2\n"
          ],
          "name": "stdout"
        }
      ]
    },
    {
      "cell_type": "markdown",
      "metadata": {
        "id": "WvUat8sjDazT"
      },
      "source": [
        "**Fourth Step** - Change Directory to the vocal-remover Folder."
      ]
    },
    {
      "cell_type": "code",
      "metadata": {
        "id": "VpAZCl1DCny6"
      },
      "source": [
        "#FOURTH STEP - Change Directory to the vocal-remover folder.\n",
        "\n",
        "!cd \"/content/drive/My Drive/vocal-remover\""
      ],
      "execution_count": 41,
      "outputs": []
    },
    {
      "cell_type": "markdown",
      "metadata": {
        "id": "gE9tmSQTDh5_"
      },
      "source": [
        "#**Fifth Step** - Choose one (or all) of these to start manipulating your file.\n",
        "Be sure to put the file you want to edit *in the main GDrive Directory*.\n",
        "\n",
        "It helps to name the file in a simple manner or to copy and paste the file name.\n",
        "\n",
        "Put the name of your file without extensions in the [FILE] field. (Remove the [ ] as well).\n",
        "\n",
        "Put the extension without the dot in the [EXT] field. (Remove the [ ] as well).\n",
        "\n",
        "**Example:** File is named \"oceaneyes.flac\" (Billie Eilish - Ocean Eyes) - So for [FILE] put `oceaneyes` and for [EXT] put `flac`.\n",
        "\n",
        "Before: /content/drive/My Drive/[FILE].[EXT]\n",
        "\n",
        "After: /content/drive/My Drive/oceaneyes.flac"
      ]
    },
    {
      "cell_type": "code",
      "metadata": {
        "id": "lMxiSTp7D5m-",
        "outputId": "c5b42297-1463-45cb-dfe5-10daebf31504",
        "colab": {
          "base_uri": "https://localhost:8080/"
        }
      },
      "source": [
        "#FIFTH STEP - OPTION ONE - MULTI-GENRE 2.0\n",
        "\n",
        "!python multi-genre-secondgen.py --input \"/content/drive/My Drive/[FILE].[EXT]\" --gpu 0"
      ],
      "execution_count": 27,
      "outputs": [
        {
          "output_type": "stream",
          "text": [
            "python3: can't open file 'multi-genre-secondgen.py': [Errno 2] No such file or directory\n"
          ],
          "name": "stdout"
        }
      ]
    },
    {
      "cell_type": "code",
      "metadata": {
        "id": "g-t4VKcQJnxo"
      },
      "source": [
        "#OPTIONAL - RENAME FILES TO _MG (For Sorting)\n",
        "\n",
        "!cd \"/content/drive/My Drive/vocal-remover/\"\n",
        "!mv [FILE]_Vocals.wav [FILE]_Vocals_MG.wav\n",
        "!mv [FILE]_Instruments.wav file_name_Instruments_MG.wav\n",
        "\n",
        "#Why not change .wav here? The python script automatically converts any audio you start with to WAV. We'll convert back later."
      ],
      "execution_count": null,
      "outputs": []
    },
    {
      "cell_type": "code",
      "metadata": {
        "id": "YIM0CaozS36e"
      },
      "source": [
        "#FIFTH STEP - OPTION 2 - MULTI-GENRE NP (GENERAL MODEL FOR ALL GENRES)\n",
        "\n",
        "!python multi-genre-np.py --input \"/content/drive/My Drive/thd.flac\" --gpu 0"
      ],
      "execution_count": null,
      "outputs": []
    },
    {
      "cell_type": "code",
      "metadata": {
        "id": "YjcCiWAKS7tG"
      },
      "source": [
        "#OPTIONAL - RENAME FILES TO _NP (For Sorting) - This also makes it so you can run all of these without worrying about overwriting files.\n",
        "\n",
        "!cd \"/content/drive/My Drive/vocal-remover/\"\n",
        "!mv [FILE]_Vocals.wav [FILE]_Vocals_NP.wav\n",
        "!mv [FILE]_Instruments.wav [FILE]_Instruments_NP.wav\n",
        "\n",
        "#Why not change .wav here? The python script automatically converts any audio you start with to WAV. We'll convert back later."
      ],
      "execution_count": null,
      "outputs": []
    },
    {
      "cell_type": "code",
      "metadata": {
        "id": "hkHAAqKzTKBh"
      },
      "source": [
        "#FIFTH STEP - OPTION 3 - MULTI-GENRE HP (WORKS BETTER ON HIGH PITCHED VOCALS)\n",
        "\n",
        "!python multi-genre-hp.py --input \"/content/drive/My Drive/thd.flac\" --gpu 0"
      ],
      "execution_count": null,
      "outputs": []
    },
    {
      "cell_type": "code",
      "metadata": {
        "id": "aElclReITOto"
      },
      "source": [
        "#OPTIONAL - RENAME FILES TO _HP (For Sorting)\n",
        "\n",
        "!cd \"/content/drive/My Drive/vocal-remover/\"\n",
        "!mv [FILE]_Vocals.wav [FILE]_Vocals_HP.wav\n",
        "!mv [FILE]_Instruments.wav [FILE]_Instruments_HP.wav\n",
        "\n",
        "#Why not change .wav here? The python script automatically converts any audio you start with to WAV. We'll convert back later."
      ],
      "execution_count": null,
      "outputs": []
    },
    {
      "cell_type": "markdown",
      "metadata": {
        "id": "yNrT9CiQU498"
      },
      "source": [
        "**Sixth Step (Optional)** - Run the file through the stacked model (Takes an instrumental and tries to remove any leftover vocal artifacts).\n",
        "\n",
        "Replace [FILE] with your file name and [_XX] with either _MG (multigenre) _NP (normal pitch) or _HP (high pitch)"
      ]
    },
    {
      "cell_type": "code",
      "metadata": {
        "id": "S2HqDiF8TdHU"
      },
      "source": [
        "#SIXTH STEP (OPTIONAL)\n",
        "#RUN THROUGH STACKED MODEL (Takes an instrumental and tries to remove any leftover vocal artifacts).\n",
        "#REPLACE WITH YOUR [FILE] NAME AND MAKE SURE YOU ADD/CHANGE THE [_MG] to either _MG _NP or _HP (and remove the [])\n",
        "\n",
        "!python inferences.py --input \"/content/drive/My Drive/vocal-remover/[FILE]_Instruments[_XX].wav\" --gpu 0"
      ],
      "execution_count": null,
      "outputs": []
    },
    {
      "cell_type": "code",
      "metadata": {
        "id": "VijG5nojUDeb"
      },
      "source": [
        "#TO BE SURE WE'RE IN THE RIGHT DIRECTORY BEFORE STEP 7\n",
        "!cd \"/content/drive/My Drive/vocal-remover\""
      ],
      "execution_count": null,
      "outputs": []
    },
    {
      "cell_type": "code",
      "metadata": {
        "id": "zAs3xmI3UMQz"
      },
      "source": [
        "#SEVENTH STEP (OPTIONAL) - PART ONE - Convert the WAVs to FLAC (to save space)\n",
        "#Note: The -f in this is to overwrite any already existing .flac files with the same name.\n",
        "!flac -f *.wav"
      ],
      "execution_count": null,
      "outputs": []
    },
    {
      "cell_type": "code",
      "metadata": {
        "id": "f092p24fUcaO"
      },
      "source": [
        "#SEVENTH STEP (OPTIONAL) - PART TWO - Remove the leftover WAVs from FLAC conversion, leaving only FLACs in your GDrive/vocal-remover folder.\n",
        "!rm *.wav"
      ],
      "execution_count": null,
      "outputs": []
    }
  ]
}