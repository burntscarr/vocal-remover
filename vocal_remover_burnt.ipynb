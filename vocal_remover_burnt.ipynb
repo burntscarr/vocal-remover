{
  "nbformat": 4,
  "nbformat_minor": 0,
  "metadata": {
    "colab": {
      "name": "vocal-remover-burnt.ipynb",
      "provenance": [],
      "private_outputs": true,
      "collapsed_sections": [
        "ag0wAKDaBa-F",
        "V49iYaQGEY9l"
      ],
      "authorship_tag": "ABX9TyP4DOAueQ0fUWHKCsQJGzX+",
      "include_colab_link": true
    },
    "kernelspec": {
      "name": "python3",
      "display_name": "Python 3"
    }
  },
  "cells": [
    {
      "cell_type": "markdown",
      "metadata": {
        "id": "view-in-github",
        "colab_type": "text"
      },
      "source": [
        "<a href=\"https://colab.research.google.com/github/burntscarr/vocal-remover/blob/main/vocal_remover_burnt.ipynb\" target=\"_parent\"><img src=\"https://colab.research.google.com/assets/colab-badge.svg\" alt=\"Open In Colab\"/></a>"
      ]
    },
    {
      "cell_type": "markdown",
      "metadata": {
        "id": "ag0wAKDaBa-F"
      },
      "source": [
        "# **Vocal-Remover burntscarr Version.**\n"
      ]
    },
    {
      "cell_type": "markdown",
      "metadata": {
        "id": "_wcBFJj_EURI"
      },
      "source": [
        "*Edits based off djtayz version.*\n",
        "\n",
        "EDITS:\n",
        "\n",
        "* Step Descriptions & Titles\n",
        "* Code Cleanup/Shortening\n",
        "* Optional File Renaming (for Sorting)\n",
        "* Basic Information For New Users\n",
        "* Optional FLAC Conversion (for Saving Space)\n",
        "* Optional WAV Removal after * FLAC Conversion (more space)\n",
        "* GitHub Project\n",
        "\n",
        "UPCOMING:\n",
        "\n",
        "* Dropdown menu for filetype ***(if I can...)***\n",
        "* Input field for file name ***(if I can...)***\n",
        "* Song Download Options ***(Making new tool to implement here for this)***\n",
        "* Video Tutorial for **Mobile** *(Definitely On It's Way)*"
      ]
    },
    {
      "cell_type": "markdown",
      "metadata": {
        "id": "V49iYaQGEY9l"
      },
      "source": [
        "#**Steps 1-4** - Import, Copy, Install, and directory Change"
      ]
    },
    {
      "cell_type": "markdown",
      "metadata": {
        "id": "x6TvggB-CxDe"
      },
      "source": [
        "**First Step** - Import Google Drive to Allow Colab to Access Your Files\n",
        "\n",
        "You'll be prompted to click a link, sign in, allow access, and copy the code given to you into the input field that shows up. Press enter to submit the code after pasting it."
      ]
    },
    {
      "cell_type": "code",
      "metadata": {
        "id": "vwMkZMynBSpy"
      },
      "source": [
        "#STEP 1 - Import Google Drive to Allow Colab to Access Your Files\n",
        "\n",
        "from google.colab import drive\n",
        "drive.mount('/content/drive')\n",
        "print(\"done\")"
      ],
      "execution_count": null,
      "outputs": []
    },
    {
      "cell_type": "markdown",
      "metadata": {
        "id": "31RXx_KFDJ4c"
      },
      "source": [
        "**Second Step** - Copy GDrive Content to Local Session Folder."
      ]
    },
    {
      "cell_type": "code",
      "metadata": {
        "id": "vz9bAZ09B_WG"
      },
      "source": [
        "#STEP 2 - Copy GDrive Content to Local Session Folder.\n",
        "\n",
        "%cp \"/content/drive/My Drive/vocal-remover/\" \"/content/\" -r\n",
        "print(\"done\")"
      ],
      "execution_count": null,
      "outputs": []
    },
    {
      "cell_type": "markdown",
      "metadata": {
        "id": "T0E8n53HDP00"
      },
      "source": [
        "**Third Step** - Install Needed Programs."
      ]
    },
    {
      "cell_type": "code",
      "metadata": {
        "id": "PYY4K5TMCH5-"
      },
      "source": [
        "#STEP 3 - Install Needed Programs.\n",
        "\n",
        "!apt install ffmpeg\n",
        "!pip install torch Pillow tqdm librosa opencv-python numba soundstretch SoundFile\n",
        "print(\"done\")"
      ],
      "execution_count": null,
      "outputs": []
    },
    {
      "cell_type": "markdown",
      "metadata": {
        "id": "WvUat8sjDazT"
      },
      "source": [
        "**Fourth Step** - Change Directory to the vocal-remover Folder."
      ]
    },
    {
      "cell_type": "code",
      "metadata": {
        "id": "VpAZCl1DCny6"
      },
      "source": [
        "#STEP 4 - Change Directory to the vocal-remover folder.\n",
        "\n",
        "%cd \"/content/drive/My Drive/vocal-remover\"\n",
        "print(\"done\")"
      ],
      "execution_count": null,
      "outputs": []
    },
    {
      "cell_type": "markdown",
      "metadata": {
        "id": "gE9tmSQTDh5_"
      },
      "source": [
        "#**Fifth Step** - Choose one (or all) of these to start manipulating your file.\n",
        "Be sure to put the file you want to edit *in the main GDrive Directory*.\n",
        "\n",
        "It helps to name the file in a simple manner or to copy and paste the file name.\n",
        "\n",
        "Put the name of your file without extensions in the [FILE] field. (Remove the [ ] as well).\n",
        "\n",
        "Put the extension without the dot in the [EXT] field. (Remove the [ ] as well).\n",
        "\n",
        "**Example:** File is named \"oceaneyes.flac\" (Billie Eilish - Ocean Eyes) - So for [FILE] put `oceaneyes` and for [EXT] put `flac`.\n",
        "\n",
        "Before: /content/drive/My Drive/[FILE].[EXT]\n",
        "\n",
        "After: /content/drive/My Drive/oceaneyes.flac\n",
        "\n",
        "(Tip: CTRL+H for Find & Replace [Edit Menu])"
      ]
    },
    {
      "cell_type": "code",
      "metadata": {
        "id": "lMxiSTp7D5m-"
      },
      "source": [
        "#STEP 5.1 - OPTION 1 - MULTI-GENRE 2.0 VOCAL REMOVER\n",
        "\n",
        "!python multi-genre-secondgen.py --input \"/content/drive/My Drive/[FILE].[EXT]\" --gpu 0\n",
        "print(\"done\")\n",
        "\n",
        "#RENAME FILES WITH _MG\n",
        "\n",
        "%cd \"/content/drive/My Drive/vocal-remover/\"\n",
        "!mv [FILE]_Vocals.wav [FILE]_Vocals_MG.wav\n",
        "!mv [FILE]_Instruments.wav [FILE]_Instruments_MG.wav\n",
        "#Why not change .wav here?\n",
        "#The python script automatically converts any audio you start with to WAV. We'll convert back later.\n",
        "\n",
        "print(\"done\")"
      ],
      "execution_count": null,
      "outputs": []
    },
    {
      "cell_type": "code",
      "metadata": {
        "id": "YIM0CaozS36e"
      },
      "source": [
        "#STEP 5.2 - OPTION 2 - MULTI-GENRE NP (GENERAL MODEL FOR ALL GENRES)\n",
        "\n",
        "!python multi-genre-np.py --input \"/content/drive/My Drive/[FILE].[EXT]\" --gpu 0\n",
        "\n",
        "#RENAME FILES TO _NP (For Sorting) - This also makes it so you can run all of these without worrying about overwriting files.\n",
        "%cd \"/content/drive/My Drive/vocal-remover/\"\n",
        "!mv [FILE]_Vocals.wav [FILE]_Vocals_NP.wav\n",
        "!mv [FILE]_Instruments.wav [FILE]_Instruments_NP.wav\n",
        "#Why not change .wav here?\n",
        "#The python script automatically converts any audio you start with to WAV. We'll convert back later.\n",
        "\n",
        "print(\"done\")"
      ],
      "execution_count": null,
      "outputs": []
    },
    {
      "cell_type": "code",
      "metadata": {
        "id": "hkHAAqKzTKBh"
      },
      "source": [
        "#STEP 5.3 - MULTI-GENRE HP (WORKS BETTER ON HIGH PITCHED VOCALS)\n",
        "\n",
        "!python multi-genre-hp.py --input \"/content/drive/My Drive/[FILE].[EXT]\" --gpu 0\n",
        "#RENAME FILES TO _HP (For Sorting)\n",
        "\n",
        "%cd \"/content/drive/My Drive/vocal-remover/\"\n",
        "!mv [FILE]_Vocals.wav [FILE]_Vocals_HP.wav\n",
        "!mv [FILE]_Instruments.wav [FILE]_Instruments_HP.wav\n",
        "#Why not change .wav here?\n",
        "#The python script automatically converts any audio you start with to WAV. We'll convert back later.\n",
        "\n",
        "print(\"done\")"
      ],
      "execution_count": null,
      "outputs": []
    },
    {
      "cell_type": "markdown",
      "metadata": {
        "id": "yNrT9CiQU498"
      },
      "source": [
        "**Sixth Step (Optional)** - Run the file through the stacked model (Takes an instrumental and tries to remove any leftover vocal artifacts).\n",
        "\n",
        "Replace [FILE] with your file name and [_XX] with either _MG (multigenre) _NP (normal pitch) or _HP (high pitch)"
      ]
    },
    {
      "cell_type": "code",
      "metadata": {
        "id": "S2HqDiF8TdHU"
      },
      "source": [
        "#STEP 6 (OPTIONAL)\n",
        "#RUN THROUGH STACKED MODEL (Takes an instrumental and tries to remove any leftover vocal artifacts).\n",
        "#REPLACE WITH YOUR [FILE] NAME AND MAKE SURE YOU ADD/CHANGE THE [_XX] to either _MG _NP or _HP (and remove the [])\n",
        "\n",
        "!python inferences.py --input \"/content/drive/My Drive/vocal-remover/[FILE]_Instruments[_XX].wav\" --gpu 0\n",
        "print(\"done\")"
      ],
      "execution_count": null,
      "outputs": []
    },
    {
      "cell_type": "code",
      "metadata": {
        "id": "VijG5nojUDeb"
      },
      "source": [
        "#TO BE SURE WE'RE IN THE RIGHT DIRECTORY BEFORE STEP 7.1\n",
        "%cd \"/content/drive/My Drive/vocal-remover\"\n",
        "print(\"done\")"
      ],
      "execution_count": null,
      "outputs": []
    },
    {
      "cell_type": "code",
      "metadata": {
        "id": "zAs3xmI3UMQz"
      },
      "source": [
        "#STEP 7.1 (OPTIONAL) - PART ONE - Convert the WAVs to FLAC (to save space)\n",
        "#Note: The -f in this is to overwrite any already existing .flac files with the same name.\n",
        "!apt install flac\n",
        "!flac -f *.wav\n",
        "#if you replace the * with the name of the .wav file you want, that will only convert that one.\n",
        "print(\"done\")"
      ],
      "execution_count": null,
      "outputs": []
    },
    {
      "cell_type": "markdown",
      "metadata": {
        "id": "jE_uCVs4DA3u"
      },
      "source": [
        "#**WARNING DO NOT RUN THE COMMAND BELOW WITHOUT FIRST CONVERTING TO FLAC ABOVE - ALL FILES MATCHING .WAV INSIDE THE VOCAL-REMOVER FOLDER WILL BE MOVED TO GDRIVE TRASH**"
      ]
    },
    {
      "cell_type": "code",
      "metadata": {
        "id": "f092p24fUcaO"
      },
      "source": [
        "#STEP 7.2 (OPTIONAL) - PART TWO - Remove the leftover WAVs from FLAC conversion, leaving only FLACs in your GDrive/vocal-remover folder.\n",
        "!rm *.wav\n",
        "#CHANGE *.wav to [FILE].wav to remove a specific file.\n",
        "print(\"done\")"
      ],
      "execution_count": null,
      "outputs": []
    }
  ]
}