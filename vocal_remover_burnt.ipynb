{
  "nbformat": 4,
  "nbformat_minor": 0,
  "metadata": {
    "colab": {
      "name": "vocal-remover-burnt.ipynb",
      "private_outputs": true,
      "provenance": [],
      "collapsed_sections": [
        "ag0wAKDaBa-F"
      ],
      "authorship_tag": "ABX9TyPdFPLHhJ1u1YsW016VL0hH"
    },
    "kernelspec": {
      "name": "python3",
      "display_name": "Python 3"
    },
    "accelerator": "GPU"
  },
  "cells": [
    {
      "cell_type": "markdown",
      "metadata": {
        "id": "ag0wAKDaBa-F"
      },
      "source": [
        "# **Vocal-Remover burntscarr Version.**\n",
        "I have updated this to use the new models. If you'd like to use the older models, they're still there just make sure to activate the commands by removing the ## infront of them."
      ]
    },
    {
      "cell_type": "markdown",
      "metadata": {
        "id": "V49iYaQGEY9l"
      },
      "source": [
        "#**Steps 1-3** - Import, Copy, Install, and directory Change\n",
        "\n",
        "You can minimize this section once you've done these steps to avoid re-running any commands unnecessarily."
      ]
    },
    {
      "cell_type": "markdown",
      "metadata": {
        "id": "x6TvggB-CxDe"
      },
      "source": [
        "**First Step** - Import Google Drive to Allow Colab to Access Your Files\n",
        "\n",
        "You'll be prompted to click a link, sign in, allow access, and copy the code given to you into the input field that shows up. Press enter to submit the code after pasting it."
      ]
    },
    {
      "cell_type": "code",
      "metadata": {
        "id": "vwMkZMynBSpy"
      },
      "source": [
        "#Step 1 - Import Google Drive to Allow Colab to Access Your Files\n",
        "\n",
        "from google.colab import drive\n",
        "drive.mount('/content/drive')\n",
        "print(\"done\")"
      ],
      "execution_count": null,
      "outputs": []
    },
    {
      "cell_type": "markdown",
      "metadata": {
        "id": "T0E8n53HDP00"
      },
      "source": [
        "**Second Step** - Install Needed Programs."
      ]
    },
    {
      "cell_type": "code",
      "metadata": {
        "id": "PYY4K5TMCH5-"
      },
      "source": [
        "#Step 2 - Install Needed Programs.\n",
        "\n",
        "!apt install ffmpeg\n",
        "!pip install torch Pillow tqdm librosa opencv-python numba soundstretch SoundFile\n",
        "print(\"done\")"
      ],
      "execution_count": null,
      "outputs": []
    },
    {
      "cell_type": "markdown",
      "metadata": {
        "id": "WvUat8sjDazT"
      },
      "source": [
        "**Third Step** - Change Directory to the vocal-remover Folder."
      ]
    },
    {
      "cell_type": "code",
      "metadata": {
        "id": "VpAZCl1DCny6"
      },
      "source": [
        "#Step 3 - Change Directory to the vocal-remover folder.\n",
        "\n",
        "%cd \"/content/drive/MyDrive/vocal-remover\"\n",
        "!ls\n",
        "print(\"done\")"
      ],
      "execution_count": null,
      "outputs": []
    },
    {
      "cell_type": "markdown",
      "metadata": {
        "id": "gE9tmSQTDh5_"
      },
      "source": [
        "#**Fourth Step** - Choose one (or all) of these to start manipulating your file.\n",
        "Be sure to put the file you want to edit *in the main GDrive Directory*.\n",
        "\n",
        "It helps to name the file in a simple manner or to copy and paste the file name.\n",
        "\n",
        "Put the name of your file without extensions in the [FILE] field. (Remove the [ ] as well).\n",
        "\n",
        "Put the extension without the dot in the [EXT] field. (Remove the [ ] as well).\n",
        "\n",
        "**Example:** File is named \"oceaneyes.flac\" (Billie Eilish - Ocean Eyes) - So for [FILE] put `oceaneyes` and for [EXT] put `flac`.\n",
        "\n",
        "Before: /content/drive/MyDrive/[FILE].flac\n",
        "\n",
        "After: /content/drive/MyDrive/oceaneyes.flac\n",
        "\n",
        "(Tip: CTRL+H for Find & Replace [Edit Menu])"
      ]
    },
    {
      "cell_type": "code",
      "metadata": {
        "id": "lMxiSTp7D5m-"
      },
      "source": [
        "#Step 4 - OPTION 1 - MGM_HIGHEND_v4_sr44100_hl1024_nf2048 Model\n",
        "\n",
        "# What is a \"model\"?\n",
        "# Models are what the program uses to know what is vocals/not.\n",
        "# Newer versions of ultimatevocalremover have updated models, which I've added here (as of [11/25/2020]).\n",
        "\n",
        "!python 01MGM_HIGHEND_v4_sr44100_hl1024_nf2048.py --input \"/content/drive/MyDrive/[FILEX].flac\" --gpu 0\n",
        "print(\"done\")\n",
        "\n",
        "#RENAME FILES WITH _01MGMHEv4 (Option 1 - MGM High End v4)\n",
        "\n",
        "%cd \"/content/drive/MyDrive/vocal-remover/\"\n",
        "!mv \"[FILEX]_Vocals.wav\" \"[FILEX]_Vocals_01MGMHEv4.wav\"\n",
        "!mv \"[FILEX]_Instruments.wav\" \"[FILEX]_Instruments_01MGMHEv4.wav\"\n",
        "#Why not change .wav here?\n",
        "#The python script automatically converts any audio you start with to WAV. We'll convert back later.\n",
        "\n",
        "print(\"Model 01MGM_HIGHEND_v4_sr44100_hl1024_nf2048 Output Finished\")"
      ],
      "execution_count": null,
      "outputs": []
    },
    {
      "cell_type": "code",
      "metadata": {
        "id": "llaCPRS-u9wS"
      },
      "source": [
        "#Step 4 - OPTION 2 - MGM_LOWEND_A_v4_sr32000_hl512_nf2048 Model\n",
        "#REMOVE any double ## prefixes to turn on the commands.\n",
        "\n",
        "##!python 02MGM_LOWEND_A_v4_sr32000_hl512_nf2048.py --input \"/content/drive/MyDrive/[FILEX].flac\" --gpu 0\n",
        "##print(\"done\")\n",
        "\n",
        "#RENAME FILES WITH _02MGMLEAv4 (Option 3 - MGM Low End A v4)\n",
        "\n",
        "##%cd \"/content/drive/MyDrive/vocal-remover/\"\n",
        "##!mv \"[FILEX]_Vocals.wav\" \"[FILEX]_Vocals_02MGMLEAv4.wav\"\n",
        "##!mv \"[FILEX]_Instruments.wav\" \"[FILEX]_Instruments_02MGMLEAv4.wav\"\n",
        "#Why not change .wav here?\n",
        "#The python script automatically converts any audio you start with to WAV. We'll convert back later.\n",
        "\n",
        "##print(\"Model MGM_LOWEND_A_v4_sr32000_hl512_nf2048 Output Finished\")"
      ],
      "execution_count": null,
      "outputs": []
    },
    {
      "cell_type": "code",
      "metadata": {
        "id": "urVUFNVhvcIu"
      },
      "source": [
        "#Step 4 - OPTION 3 - MGM_LOWEND_B_v4_sr33075_hl384_nf2048 Model\n",
        "#REMOVE any double ## prefixes to turn on the commands.\n",
        "\n",
        "##!python 03MGM_LOWEND_B_v4_sr33075_hl384_nf2048.py --input \"/content/drive/MyDrive/[FILEX].flac\" --gpu 0\n",
        "##print(\"done\")\n",
        "\n",
        "#RENAME FILES WITH _03MGMLEBv4 (Option 3 - MGM Low End B v4)\n",
        "\n",
        "##%cd \"/content/drive/MyDrive/vocal-remover/\"\n",
        "##!mv \"[FILEX]_Vocals.wav\" \"[FILEX]_Vocals_03MGMLEBv4.wav\"\n",
        "##!mv \"[FILEX]_Instruments.wav\" \"[FILEX]_Instruments_03MGMLEBv4.wav\"\n",
        "#Why not change .wav here?\n",
        "#The python script automatically converts any audio you start with to WAV. We'll convert back later.\n",
        "\n",
        "##print(\"Model MGM_LOWEND_B_v4_sr33075_hl384_nf2048 Output Finished\")"
      ],
      "execution_count": null,
      "outputs": []
    },
    {
      "cell_type": "code",
      "metadata": {
        "id": "DhtfA2GCwR4J"
      },
      "source": [
        "#Step 4 - OPTION 4 - MGM_MAIN_v4_sr44100_hl512_nf2048 Model\n",
        "#REMOVE any double ## prefixes to turn on the commands.\n",
        "\n",
        "##!python 04MGM_MAIN_v4_sr44100_hl512_nf2048.py --input \"/content/drive/MyDrive/[FILEX].flac\" --gpu 0\n",
        "##print(\"done\")\n",
        "\n",
        "#RENAME FILES WITH _04MGMMv4 (Option 4 - MGM Main v4)\n",
        "\n",
        "##%cd \"/content/drive/MyDrive/vocal-remover/\"\n",
        "##!mv \"[FILEX]_Vocals.wav\" \"[FILEX]_Vocals_04MGMMv4.wav\"\n",
        "##!mv \"[FILEX]_Instruments.wav\" \"[FILEX]_Instruments_04MGMMv4.wav\"\n",
        "#Why not change .wav here?\n",
        "#The python script automatically converts any audio you start with to WAV. We'll convert back later.\n",
        "\n",
        "##print(\"Model MGM_MAIN_v4_sr44100_hl512_nf2048 Output Finished\")"
      ],
      "execution_count": null,
      "outputs": []
    },
    {
      "cell_type": "code",
      "metadata": {
        "id": "izJjzfjmwYek"
      },
      "source": [
        "#Step 4 - OPTION 5 - MODEL_BVKARAOKE_by_aufr33_v4_sr33075_hl384_nf1536 Model\n",
        "#REMOVE any double ## prefixes to turn on the commands.\n",
        "\n",
        "##!python 05MODEL_BVKARAOKE_by_aufr33_v4_sr33075_hl384_nf1536.py --input \"/content/drive/MyDrive/[FILEX].flac\" --gpu 0\n",
        "##print(\"done\")\n",
        "\n",
        "#RENAME FILES WITH _05MBVKv4 (Option 5 - Model BV Karaoke v4)\n",
        "\n",
        "##%cd \"/content/drive/MyDrive/vocal-remover/\"\n",
        "##!mv \"[FILEX]_Vocals.wav\" \"[FILEX]_Vocals_05MBVKv4.wav\"\n",
        "##!mv \"[FILEX]_Instruments.wav\" \"[FILEX]_Instruments_05MBVKv4.wav\"\n",
        "#Why not change .wav here?\n",
        "#The python script automatically converts any audio you start with to WAV. We'll convert back later.\n",
        "\n",
        "##print(\"Model MODEL_BVKARAOKE_by_aufr33_v4_sr33075_hl384_nf1536 Output Finished\")"
      ],
      "execution_count": null,
      "outputs": []
    },
    {
      "cell_type": "code",
      "metadata": {
        "id": "s8JeFRekwjqQ"
      },
      "source": [
        "#Step 4 - OPTION 6 (OLD OPTION 1) - MULTI-GENRE 2.0 Model\n",
        "#REMOVE any double ## prefixes to turn on the commands.\n",
        "\n",
        "##!python multi-genre-secondgen.py --input \"/content/drive/MyDrive/[FILEX].flac\" --gpu 0\n",
        "##print(\"done\")\n",
        "\n",
        "#RENAME FILES WITH _MG (MultiGenre)\n",
        "\n",
        "##%cd \"/content/drive/MyDrive/vocal-remover/\"\n",
        "##!mv \"[FILEX]_Vocals.wav\" \"[FILEX]_Vocals_MG.wav\"\n",
        "##!mv \"[FILEX]_Instruments.wav\" \"[FILEX]_Instruments_MG.wav\"\n",
        "#Why not change .wav here?\n",
        "#The python script automatically converts any audio you start with to WAV. We'll convert back later.\n",
        "\n",
        "##print(\"Model multi-genre-secondgen Output Finished\")"
      ],
      "execution_count": null,
      "outputs": []
    },
    {
      "cell_type": "code",
      "metadata": {
        "id": "7VW1b6GJwv_u"
      },
      "source": [
        "#Step 4 - OPTION 7 (OLD OPTION 2) - MULTI-GENRE 1.0 HIGH-PITCH Model\n",
        "#REMOVE any double ## prefixes to turn on the commands.\n",
        "\n",
        "##!python multi-genre-hp.py --input \"/content/drive/MyDrive/[FILEX].flac\" --gpu 0\n",
        "##print(\"done\")\n",
        "\n",
        "#RENAME FILES WITH _HP (HighPitch)\n",
        "\n",
        "##%cd \"/content/drive/MyDrive/vocal-remover/\"\n",
        "##!mv \"[FILEX]_Vocals.wav\" \"[FILEX]_Vocals_HP.wav\"\n",
        "##!mv \"[FILEX]_Instruments.wav\" \"[FILEX]_Instruments_HP.wav\"\n",
        "#Why not change .wav here?\n",
        "#The python script automatically converts any audio you start with to WAV. We'll convert back later.\n",
        "\n",
        "##print(\"Model multi-genre-hp Output Finished\")"
      ],
      "execution_count": null,
      "outputs": []
    },
    {
      "cell_type": "code",
      "metadata": {
        "id": "w9qT1UBIw9LR"
      },
      "source": [
        "#Step 4 - OPTION 8 (OLD OPTION 3) - MULTI-GENRE 1.0 NORMAL-PITCH Model\n",
        "#REMOVE any double ## prefixes to turn on the commands.\n",
        "\n",
        "##!python multi-genre-np.py --input \"/content/drive/MyDrive/[FILEX].flac\" --gpu 0\n",
        "##print(\"done\")\n",
        "\n",
        "#RENAME FILES WITH _NP (NormalPitch)\n",
        "\n",
        "##%cd \"/content/drive/MyDrive/vocal-remover/\"\n",
        "##!mv \"[FILEX]_Vocals.wav\" \"[FILEX]_Vocals_NP.wav\"\n",
        "##!mv \"[FILEX]_Instruments.wav\" \"[FILEX]_Instruments_NP.wav\"\n",
        "#Why not change .wav here?\n",
        "#The python script automatically converts any audio you start with to WAV. We'll convert back later.\n",
        "\n",
        "##print(\"Model multi-genre-np Output Finished\")"
      ],
      "execution_count": null,
      "outputs": []
    },
    {
      "cell_type": "markdown",
      "metadata": {
        "id": "Jp_j4nNCwCzR"
      },
      "source": [
        "#**Fifth Step** - WAV to FLAC Conversion (& WAV Removal)"
      ]
    },
    {
      "cell_type": "code",
      "metadata": {
        "id": "zAs3xmI3UMQz"
      },
      "source": [
        "#STEP 5.1 (OPTIONAL) - PART ONE - Convert the WAVs to FLAC (to save space)\n",
        "#TO BE SURE WE'RE IN THE RIGHT DIRECTORY\n",
        "%cd \"/content/drive/MyDrive/vocal-remover\"\n",
        "#Note: The -f in this is to overwrite any already existing .flac files with the same name.\n",
        "!apt install flac\n",
        "!flac -f *.wav\n",
        "#if you replace the * with the name of the .wav file you want, that will only convert that one.\n",
        "#STEP 5.2 (OPTIONAL) - PART TWO - Remove the leftover WAVs from FLAC conversion, leaving only FLACs in your GDrive/vocal-remover folder.\n",
        "!rm *.wav\n",
        "#CHANGE *.wav to [FILE].wav to remove a specific file.\n",
        "#Files are put in your GDrive Trash\n",
        "#Remember you can add # infront of a section to stop it from happening. Such as infront of !flac to not convert the wavs, or infront of !rm to not remove the wavs\n",
        "print(\"done\")"
      ],
      "execution_count": null,
      "outputs": []
    }
  ]
}